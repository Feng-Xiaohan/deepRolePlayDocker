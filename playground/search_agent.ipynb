{
 "cells": [
  {
   "cell_type": "code",
   "execution_count": null,
   "id": "8a4b393f",
   "metadata": {},
   "outputs": [],
   "source": "import sys\nimport os\nsys.path.append(os.path.dirname(os.path.abspath('.')))\n\nfrom langchain_core.messages import convert_to_messages\nfrom langgraph.prebuilt import create_react_agent\nfrom langchain_openai import ChatOpenAI\n\nfrom tools.sequential_thinking import sequential_thinking\nfrom tools.re_search_tool import re_search\nfrom utils.pretty_printer import pretty_print_messages"
  },
  {
   "cell_type": "code",
   "execution_count": 2,
   "id": "344e8bd0",
   "metadata": {},
   "outputs": [],
   "source": [
    "import json\n",
    "\n",
    "# 读取harry_potter_conversation.json文件并整理为list(dict)\n",
    "with open('../harry_potter_conversation.json', 'r',\n",
    "encoding='utf-8') as f:\n",
    "    harry_potter_conversation = json.load(f)"
   ]
  },
  {
   "cell_type": "code",
   "execution_count": null,
   "id": "521d35a4",
   "metadata": {},
   "outputs": [],
   "source": [
    "# 配置语言模型\n",
    "llm = ChatOpenAI(\n",
    "    model=\"deepseek-chat\",\n",
    "    temperature=0.0,\n",
    "    max_tokens=8192,\n",
    "    streaming=True,\n",
    "    base_url=\"https://api.deepseek.com/v1\",\n",
    "    api_key=\"sk-5b155b212651493b942e7dca7dfb4751\",\n",
    ")"
   ]
  },
  {
   "cell_type": "code",
   "execution_count": null,
   "id": "1ad0f805",
   "metadata": {},
   "outputs": [],
   "source": "SYSTEM_PROMPT = \"\"\"\n你是一个记忆闪回代理，模拟人脑的自动记忆联想系统。\n\n核心职责：\n当接收到新的情境描述时，你要像人脑一样自动触发相关记忆的闪回，提供理解当前情境所需的关键背景信息。\n\n工作流程（必须严格执行）：\n\n1. 情境分析阶段：\n   - 使用sequential_thinking工具（1-2个思考步骤）快速识别情境中的所有潜在重要实体\n   - 实体类型包括：人物、物品、地点、事件、概念、情感、关系等\n   - 思考哪些实体可能有重要的历史背景\n   - 特别注意：识别实体之间的潜在关联关系\n\n2. 记忆搜索阶段：\n   - 强烈推荐使用多实体联合搜索，捕获实体间的关联语境\n   - 搜索策略（按优先级）：\n     * 首选：多实体联合搜索，如\"实体A.*?实体B|实体B.*?实体A\"\n     * 示例：\"摄魂怪.*?守护神|守护神.*?摄魂怪\"、\"卢平.*?守护神|守护神.*?卢平\"\n     * 次选：相关概念组合搜索，如\"(守护神|牡鹿|咒语)\"\n     * 慎用：单实体搜索（结果过多且缺乏语境）\n   - 搜索技巧：\n     * 使用.*?（非贪婪匹配）连接实体，限制匹配范围\n     * 构建双向搜索模式，确保不遗漏任何语序组合\n     * 如果初次搜索无结果，尝试近义词或部分匹配\n\n3. 重要性评估阶段：\n   - 使用sequential_thinking工具（2-3个思考步骤）分析搜索结果\n   - 评估标准：\n     * 实体间的关联强度（通过联合搜索发现的关联更重要）\n     * 与当前情境的相关性\n     * 对理解剧情发展的必要性\n     * 揭示的隐藏联系或背景\n     * 情感记忆的重要性\n   - 筛选出真正重要的实体（通常3-5个）\n\n4. 记忆整合阶段：\n   - 基于搜索到的段落，为每个重要实体构建连贯的记忆描述\n   - 特别强调通过联合搜索发现的实体关联\n   - 描述应该像真实的记忆闪回：\n     * 突出实体之间的联系和互动\n     * 包含时间顺序的回忆\n     * 包含情感色彩\n     * 暗示未来可能的发展\n\n最终输出格式（严格按此格式）：\n=== 记忆闪回 ===\n\n**[实体名称]**\n[基于搜索结果整合的记忆描述，特别强调与其他实体的关联]\n\n**[实体名称2]**\n[记忆描述...]\n\n工具使用规范：\n- sequential_thinking：总共使用3-5次，用于分析和评估\n- re_search：\n  * 必须优先使用多实体联合搜索\n  * 每个重要实体都要与其他相关实体进行联合搜索\n  * 单实体搜索仅在联合搜索无结果时作为补充\n- 搜索示例：\n  * 推荐：\"哈利.*?守护神|守护神.*?哈利\"\n  * 推荐：\"摄魂怪.*?卢平|卢平.*?摄魂怪\"\n  * 不推荐：\"守护神\"（太宽泛）\n\n记忆闪回的艺术：\n- 重点展现实体间的关联和互动\n- 不是机械地列举信息，而是像人类记忆一样自然涌现\n- 可以用\"这让我想起...\"、\"记忆中...\"、\"曾经...\"等词汇\n- 重要的不是信息的完整性，而是对当前情境的启发性\n- 如果某个实体确实没有历史记忆，简单说明\"[新出现的实体]\"\n\n注意：必须基于搜索结果构建描述，不能凭空编造记忆。\n\"\"\"\n\nmemory_flashback_agent = create_react_agent(\n    model=llm,\n    tools=[sequential_thinking, re_search],\n    prompt=SYSTEM_PROMPT,\n    name=\"memory_flashback_agent\",\n)"
  },
  {
   "cell_type": "code",
   "execution_count": null,
   "id": "a26e0b17",
   "metadata": {},
   "outputs": [],
   "source": "# 测试记忆闪回代理 - 基于实际对话内容的情境\nprint(\"=== 测试情境：哈利在黑暗的走廊遇到摄魂怪 ===\")\nfor chunk in memory_flashback_agent.stream(\n    {\"messages\": [{\"role\": \"user\", \"content\": \"哈利独自走在城堡的走廊里，突然感到一阵寒冷。远处，一个披着斗篷的摄魂怪正缓缓飘来。他握紧魔杖，想起了卢平教授的教导，努力回忆快乐的记忆准备施展守护神咒语。\"}]}\n):\n    pretty_print_messages(chunk)"
  }
 ],
 "metadata": {
  "kernelspec": {
   "display_name": "langgraph (3.12.3)",
   "language": "python",
   "name": "python3"
  },
  "language_info": {
   "codemirror_mode": {
    "name": "ipython",
    "version": 3
   },
   "file_extension": ".py",
   "mimetype": "text/x-python",
   "name": "python",
   "nbconvert_exporter": "python",
   "pygments_lexer": "ipython3",
   "version": "3.12.3"
  }
 },
 "nbformat": 4,
 "nbformat_minor": 5
}